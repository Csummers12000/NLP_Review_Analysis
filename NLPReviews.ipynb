{
 "metadata": {
  "language_info": {
   "codemirror_mode": {
    "name": "ipython",
    "version": 3
   },
   "file_extension": ".py",
   "mimetype": "text/x-python",
   "name": "python",
   "nbconvert_exporter": "python",
   "pygments_lexer": "ipython3",
   "version": "3.8.5-final"
  },
  "orig_nbformat": 2,
  "kernelspec": {
   "name": "python385jvsc74a57bd02db524e06e9f5f4ffedc911c917cb75e12dbc923643829bf417064a77eb14d37",
   "display_name": "Python 3.8.5 64-bit"
  },
  "metadata": {
   "interpreter": {
    "hash": "2db524e06e9f5f4ffedc911c917cb75e12dbc923643829bf417064a77eb14d37"
   }
  }
 },
 "nbformat": 4,
 "nbformat_minor": 2,
 "cells": [
  {
   "source": [
    "# Importing Necessary Libraries"
   ],
   "cell_type": "markdown",
   "metadata": {}
  },
  {
   "cell_type": "code",
   "execution_count": 1,
   "metadata": {},
   "outputs": [],
   "source": [
    "import regex as re\n",
    "import numpy as np\n",
    "import pandas as pd\n",
    "import spacy\n",
    "import nltk\n",
    "from nltk.corpus import stopwords\n",
    "stop_words = stopwords.words('english')\n",
    "\n",
    "import gensim\n",
    "import gensim.corpora as corpora\n",
    "from gensim.utils import simple_preprocess"
   ]
  },
  {
   "source": [
    "# Loading, Cleaning, and Tokenizing the data"
   ],
   "cell_type": "markdown",
   "metadata": {}
  },
  {
   "cell_type": "code",
   "execution_count": 2,
   "metadata": {},
   "outputs": [
    {
     "output_type": "execute_result",
     "data": {
      "text/plain": [
       "            Restaurant                                             Review  \\\n",
       "0      Beyond Flavours  The ambience was good, food was quite good . h...   \n",
       "1      Beyond Flavours  Ambience is too good for a pleasant evening. S...   \n",
       "2      Beyond Flavours  A must try.. great food great ambience. Thnx f...   \n",
       "3      Beyond Flavours  Soumen das and Arun was a great guy. Only beca...   \n",
       "4      Beyond Flavours  Food is good.we ordered Kodi drumsticks and ba...   \n",
       "...                ...                                                ...   \n",
       "9956  Chinese Pavilion  Madhumathi Mahajan Well to start with nice cou...   \n",
       "9957  Chinese Pavilion  This place has never disappointed us.. The foo...   \n",
       "9958  Chinese Pavilion  Bad rating is mainly because of \"Chicken Bone ...   \n",
       "9959  Chinese Pavilion  I personally love and prefer Chinese Food. Had...   \n",
       "9960  Chinese Pavilion  Checked in here to try some delicious chinese ...   \n",
       "\n",
       "      No_Of_Raters           Time   Cost  American  Asian  French  Indian  \\\n",
       "0                5  5/25/19 15:54    800         0      1       0       0   \n",
       "1                5  5/25/19 14:20    800         0      1       0       0   \n",
       "2                5  5/24/19 22:54    800         0      1       0       0   \n",
       "3                5  5/24/19 22:11    800         0      1       0       0   \n",
       "4                5  5/24/19 21:37    800         0      1       0       0   \n",
       "...            ...            ...    ...       ...    ...     ...     ...   \n",
       "9956             3    6/5/16 0:08  1,000         0      1       0       0   \n",
       "9957             5   6/4/16 22:01  1,000         0      0       0       1   \n",
       "9958             2   6/3/16 10:37  1,000         0      0       0       1   \n",
       "9959             4  5/31/16 17:22  1,000         0      1       0       0   \n",
       "9960             4  5/31/16 16:41  1,000         0      1       0       0   \n",
       "\n",
       "      Mediterranean  \n",
       "0                 0  \n",
       "1                 0  \n",
       "2                 0  \n",
       "3                 0  \n",
       "4                 0  \n",
       "...             ...  \n",
       "9956              0  \n",
       "9957              0  \n",
       "9958              0  \n",
       "9959              0  \n",
       "9960              0  \n",
       "\n",
       "[9954 rows x 10 columns]"
      ],
      "text/html": "<div>\n<style scoped>\n    .dataframe tbody tr th:only-of-type {\n        vertical-align: middle;\n    }\n\n    .dataframe tbody tr th {\n        vertical-align: top;\n    }\n\n    .dataframe thead th {\n        text-align: right;\n    }\n</style>\n<table border=\"1\" class=\"dataframe\">\n  <thead>\n    <tr style=\"text-align: right;\">\n      <th></th>\n      <th>Restaurant</th>\n      <th>Review</th>\n      <th>No_Of_Raters</th>\n      <th>Time</th>\n      <th>Cost</th>\n      <th>American</th>\n      <th>Asian</th>\n      <th>French</th>\n      <th>Indian</th>\n      <th>Mediterranean</th>\n    </tr>\n  </thead>\n  <tbody>\n    <tr>\n      <th>0</th>\n      <td>Beyond Flavours</td>\n      <td>The ambience was good, food was quite good . h...</td>\n      <td>5</td>\n      <td>5/25/19 15:54</td>\n      <td>800</td>\n      <td>0</td>\n      <td>1</td>\n      <td>0</td>\n      <td>0</td>\n      <td>0</td>\n    </tr>\n    <tr>\n      <th>1</th>\n      <td>Beyond Flavours</td>\n      <td>Ambience is too good for a pleasant evening. S...</td>\n      <td>5</td>\n      <td>5/25/19 14:20</td>\n      <td>800</td>\n      <td>0</td>\n      <td>1</td>\n      <td>0</td>\n      <td>0</td>\n      <td>0</td>\n    </tr>\n    <tr>\n      <th>2</th>\n      <td>Beyond Flavours</td>\n      <td>A must try.. great food great ambience. Thnx f...</td>\n      <td>5</td>\n      <td>5/24/19 22:54</td>\n      <td>800</td>\n      <td>0</td>\n      <td>1</td>\n      <td>0</td>\n      <td>0</td>\n      <td>0</td>\n    </tr>\n    <tr>\n      <th>3</th>\n      <td>Beyond Flavours</td>\n      <td>Soumen das and Arun was a great guy. Only beca...</td>\n      <td>5</td>\n      <td>5/24/19 22:11</td>\n      <td>800</td>\n      <td>0</td>\n      <td>1</td>\n      <td>0</td>\n      <td>0</td>\n      <td>0</td>\n    </tr>\n    <tr>\n      <th>4</th>\n      <td>Beyond Flavours</td>\n      <td>Food is good.we ordered Kodi drumsticks and ba...</td>\n      <td>5</td>\n      <td>5/24/19 21:37</td>\n      <td>800</td>\n      <td>0</td>\n      <td>1</td>\n      <td>0</td>\n      <td>0</td>\n      <td>0</td>\n    </tr>\n    <tr>\n      <th>...</th>\n      <td>...</td>\n      <td>...</td>\n      <td>...</td>\n      <td>...</td>\n      <td>...</td>\n      <td>...</td>\n      <td>...</td>\n      <td>...</td>\n      <td>...</td>\n      <td>...</td>\n    </tr>\n    <tr>\n      <th>9956</th>\n      <td>Chinese Pavilion</td>\n      <td>Madhumathi Mahajan Well to start with nice cou...</td>\n      <td>3</td>\n      <td>6/5/16 0:08</td>\n      <td>1,000</td>\n      <td>0</td>\n      <td>1</td>\n      <td>0</td>\n      <td>0</td>\n      <td>0</td>\n    </tr>\n    <tr>\n      <th>9957</th>\n      <td>Chinese Pavilion</td>\n      <td>This place has never disappointed us.. The foo...</td>\n      <td>5</td>\n      <td>6/4/16 22:01</td>\n      <td>1,000</td>\n      <td>0</td>\n      <td>0</td>\n      <td>0</td>\n      <td>1</td>\n      <td>0</td>\n    </tr>\n    <tr>\n      <th>9958</th>\n      <td>Chinese Pavilion</td>\n      <td>Bad rating is mainly because of \"Chicken Bone ...</td>\n      <td>2</td>\n      <td>6/3/16 10:37</td>\n      <td>1,000</td>\n      <td>0</td>\n      <td>0</td>\n      <td>0</td>\n      <td>1</td>\n      <td>0</td>\n    </tr>\n    <tr>\n      <th>9959</th>\n      <td>Chinese Pavilion</td>\n      <td>I personally love and prefer Chinese Food. Had...</td>\n      <td>4</td>\n      <td>5/31/16 17:22</td>\n      <td>1,000</td>\n      <td>0</td>\n      <td>1</td>\n      <td>0</td>\n      <td>0</td>\n      <td>0</td>\n    </tr>\n    <tr>\n      <th>9960</th>\n      <td>Chinese Pavilion</td>\n      <td>Checked in here to try some delicious chinese ...</td>\n      <td>4</td>\n      <td>5/31/16 16:41</td>\n      <td>1,000</td>\n      <td>0</td>\n      <td>1</td>\n      <td>0</td>\n      <td>0</td>\n      <td>0</td>\n    </tr>\n  </tbody>\n</table>\n<p>9954 rows × 10 columns</p>\n</div>"
     },
     "metadata": {},
     "execution_count": 2
    }
   ],
   "source": [
    "df = pd.read_csv('RestaurantReviews.csv')\n",
    "df = df.dropna()\n",
    "df"
   ]
  },
  {
   "cell_type": "code",
   "execution_count": 3,
   "metadata": {},
   "outputs": [
    {
     "output_type": "stream",
     "name": "stdout",
     "text": [
      "The ambience was good, food was quite good . had Saturday lunch , which was cost effective . Good place for a sate brunch. One can also chill with friends and or parents. Waiter Soumen Das was really courteous and helpful.\n"
     ]
    }
   ],
   "source": [
    "reviews = df['Review'].tolist()\n",
    "reviews = [re.sub('\\s+', ' ', thing) for thing in reviews]\n",
    "reviews = [re.sub(\"\\'\", \"\", thing) for thing in reviews]\n",
    "print(reviews[0])"
   ]
  },
  {
   "cell_type": "code",
   "execution_count": 4,
   "metadata": {},
   "outputs": [
    {
     "output_type": "stream",
     "name": "stdout",
     "text": [
      "['the', 'ambience', 'was', 'good', 'food', 'was', 'quite', 'good', 'had', 'saturday', 'lunch', 'which', 'was', 'cost', 'effective', 'good', 'place', 'for', 'sate', 'brunch', 'one', 'can', 'also', 'chill', 'with', 'friends', 'and', 'or', 'parents', 'waiter', 'soumen', 'das', 'was', 'really', 'courteous', 'and', 'helpful']\n"
     ]
    }
   ],
   "source": [
    "def tokenizer(review):\n",
    "    for word in review:\n",
    "        yield(gensim.utils.simple_preprocess(str(word), deacc=True))\n",
    "        \n",
    "tokensets = list(tokenizer(reviews))\n",
    "\n",
    "print(tokensets[0])"
   ]
  },
  {
   "source": [
    "# Creating Bigrams, Removing Stopwords, and Lemmatizing"
   ],
   "cell_type": "markdown",
   "metadata": {}
  },
  {
   "cell_type": "code",
   "execution_count": 5,
   "metadata": {},
   "outputs": [
    {
     "output_type": "stream",
     "name": "stdout",
     "text": [
      "['the', 'ambience', 'was', 'good', 'food', 'was', 'quite', 'good', 'had', 'saturday', 'lunch', 'which', 'was', 'cost_effective', 'good', 'place', 'for', 'sate', 'brunch', 'one', 'can', 'also', 'chill', 'with', 'friends', 'and', 'or', 'parents', 'waiter', 'soumen_das', 'was', 'really', 'courteous', 'and', 'helpful']\n"
     ]
    }
   ],
   "source": [
    "bigram = gensim.models.Phrases(tokensets, min_count=5, threshold=100)\n",
    "bigram_mod = gensim.models.phrases.Phraser(bigram)\n",
    "print(bigram_mod[tokensets[0]])"
   ]
  },
  {
   "cell_type": "code",
   "execution_count": 6,
   "metadata": {},
   "outputs": [],
   "source": [
    "def stopword_remover(tokensets):\n",
    "    return [[token for token in simple_preprocess(str(tokenset)) if token not in stop_words] for tokenset in tokensets]\n",
    "\n",
    "def bigram_maker(tokensets):\n",
    "    return [bigram_mod[tokenset] for tokenset in tokensets]\n",
    "\n",
    "nlp = spacy.load('en_core_web_sm', disable=['parser', 'ner'])\n",
    "def lemmatizer(tokensets, allowed_postags=['NOUN', 'ADJ', 'VERB', 'ADV']):\n",
    "    better_tokensets = []\n",
    "    for tokens in tokensets:\n",
    "        tokenset = nlp(\" \".join(tokens)) \n",
    "        better_tokensets.append([token.lemma_ for token in tokenset if token.pos_ in allowed_postags])\n",
    "    return better_tokensets"
   ]
  },
  {
   "cell_type": "code",
   "execution_count": 7,
   "metadata": {},
   "outputs": [
    {
     "output_type": "stream",
     "name": "stdout",
     "text": [
      "['ambience', 'good', 'food', 'quite', 'good', 'saturday', 'lunch', 'cost_effective', 'good', 'place', 'sate', 'brunch', 'also', 'chill', 'friend', 'parent', 'waiter', 'soumen_da', 'really', 'courteous', 'helpful']\n"
     ]
    }
   ],
   "source": [
    "NoStop = stopword_remover(tokensets)\n",
    "\n",
    "BiGram = bigram_maker(NoStop)\n",
    "\n",
    "best_tokensets = lemmatizer(BiGram, allowed_postags=['NOUN', 'ADJ', 'VERB', 'ADV'])\n",
    "\n",
    "print(best_tokensets[0])"
   ]
  },
  {
   "source": [
    "# Using LDA to develop a topic model"
   ],
   "cell_type": "markdown",
   "metadata": {}
  },
  {
   "cell_type": "code",
   "execution_count": 8,
   "metadata": {},
   "outputs": [
    {
     "output_type": "stream",
     "name": "stdout",
     "text": [
      "[(0, 1), (1, 1), (2, 1), (3, 1), (4, 1), (5, 1), (6, 1), (7, 1), (8, 3), (9, 1), (10, 1), (11, 1), (12, 1), (13, 1), (14, 1), (15, 1), (16, 1), (17, 1), (18, 1)]\n"
     ]
    }
   ],
   "source": [
    "tokenDict = corpora.Dictionary(best_tokensets)\n",
    "corpus = [tokenDict.doc2bow(tokenset) for tokenset in best_tokensets]\n",
    "print(corpus[0])"
   ]
  },
  {
   "cell_type": "code",
   "execution_count": 9,
   "metadata": {},
   "outputs": [
    {
     "output_type": "stream",
     "name": "stdout",
     "text": [
      "[(0, '0.073*\"good\" + 0.056*\"food\" + 0.052*\"place\" + 0.027*\"service\" + 0.018*\"great\" + 0.018*\"visit\" + 0.017*\"ambience\" + 0.015*\"staff\" + 0.014*\"really\" + 0.013*\"nice\"'), (1, '0.039*\"chicken\" + 0.026*\"taste\" + 0.016*\"order\" + 0.015*\"try\" + 0.014*\"veg\" + 0.014*\"dish\" + 0.013*\"rice\" + 0.012*\"chinese\" + 0.011*\"biryani\" + 0.010*\"soup\"'), (2, '0.028*\"order\" + 0.020*\"do\" + 0.019*\"get\" + 0.018*\"restaurant\" + 0.014*\"bad\" + 0.013*\"time\" + 0.012*\"food\" + 0.012*\"even\" + 0.012*\"take\" + 0.011*\"give\"')]\n"
     ]
    }
   ],
   "source": [
    "LDA = gensim.models.ldamodel.LdaModel(corpus=corpus,\n",
    "                                      id2word=tokenDict,\n",
    "                                      num_topics=3,\n",
    "                                      random_state=100,\n",
    "                                      update_every=1,\n",
    "                                      chunksize=100,\n",
    "                                      passes=10,\n",
    "                                      alpha='auto',\n",
    "                                      per_word_topics=True)\n",
    "newLDA = LDA[corpus]\n",
    "print(LDA.print_topics())"
   ]
  },
  {
   "source": [
    "# Generating a Visualization of the 3 Topic Models"
   ],
   "cell_type": "markdown",
   "metadata": {}
  },
  {
   "cell_type": "code",
   "execution_count": 10,
   "metadata": {},
   "outputs": [
    {
     "output_type": "execute_result",
     "data": {
      "text/plain": [
       "PreparedData(topic_coordinates=             x         y  topics  cluster       Freq\n",
       "topic                                               \n",
       "0      0.09498 -0.251144       1        1  43.454737\n",
       "1     -0.27512  0.046978       2        1  30.410024\n",
       "2      0.18014  0.204165       3        1  26.135239, topic_info=        Term         Freq        Total Category  logprob  loglift\n",
       "8       good  7865.000000  7865.000000  Default  30.0000  30.0000\n",
       "12     place  5619.000000  5619.000000  Default  29.0000  29.0000\n",
       "483  chicken  2927.000000  2927.000000  Default  28.0000  28.0000\n",
       "6       food  6864.000000  6864.000000  Default  27.0000  27.0000\n",
       "50     order  2997.000000  2997.000000  Default  26.0000  26.0000\n",
       "..       ...          ...          ...      ...      ...      ...\n",
       "159    thing   318.803557   493.655438   Topic3  -5.3128   0.9046\n",
       "51     serve   413.878850  1540.592452   Topic3  -5.0518   0.0275\n",
       "187     make   370.781658  1099.815066   Topic3  -5.1617   0.2546\n",
       "495    money   311.757605   468.567053   Topic3  -5.3351   0.9344\n",
       "410  quality   338.037265   846.930115   Topic3  -5.2542   0.4234\n",
       "\n",
       "[179 rows x 6 columns], token_table=      Topic      Freq       Term\n",
       "term                            \n",
       "0         1  0.651726       also\n",
       "0         2  0.321570       also\n",
       "0         3  0.026537       also\n",
       "26        1  0.999227    amazing\n",
       "54        1  0.999320   ambiance\n",
       "...     ...       ...        ...\n",
       "53        2  0.309199       well\n",
       "53        3  0.045372       well\n",
       "1049      2  0.999088       wing\n",
       "220       1  0.995588  wonderful\n",
       "503       3  0.998726     zomato\n",
       "\n",
       "[204 rows x 3 columns], R=30, lambda_step=0.01, plot_opts={'xlab': 'PC1', 'ylab': 'PC2'}, topic_order=[1, 2, 3])"
      ],
      "text/html": "\n<link rel=\"stylesheet\" type=\"text/css\" href=\"https://cdn.jsdelivr.net/gh/bmabey/pyLDAvis@3.3.1/pyLDAvis/js/ldavis.v1.0.0.css\">\n\n\n<div id=\"ldavis_el2442421542101458883759350249\"></div>\n<script type=\"text/javascript\">\n\nvar ldavis_el2442421542101458883759350249_data = {\"mdsDat\": {\"x\": [0.09498036829057596, -0.27512020095607803, 0.18013983266550201], \"y\": [-0.2511435903000341, 0.0469781049327166, 0.2041654853673174], \"topics\": [1, 2, 3], \"cluster\": [1, 1, 1], \"Freq\": [43.45473672843215, 30.41002431667139, 26.135238954896455]}, \"tinfo\": {\"Term\": [\"good\", \"place\", \"chicken\", \"food\", \"order\", \"do\", \"service\", \"great\", \"visit\", \"get\", \"ambience\", \"taste\", \"staff\", \"veg\", \"bad\", \"rice\", \"nice\", \"restaurant\", \"chinese\", \"even\", \"take\", \"biryani\", \"amazing\", \"soup\", \"dish\", \"try\", \"noodle\", \"say\", \"fry\", \"time\", \"place\", \"great\", \"ambience\", \"visit\", \"staff\", \"nice\", \"amazing\", \"awesome\", \"buffet\", \"friend\", \"ambiance\", \"excellent\", \"lunch\", \"friendly\", \"thank\", \"option\", \"enjoy\", \"courteous\", \"music\", \"family\", \"polite\", \"especially\", \"team\", \"spread\", \"hangout\", \"party\", \"view\", \"quick\", \"hospitality\", \"wonderful\", \"good\", \"super\", \"city\", \"service\", \"dinner\", \"food\", \"price\", \"decent\", \"really\", \"variety\", \"average\", \"love\", \"go\", \"overall\", \"well\", \"starter\", \"also\", \"time\", \"menu\", \"experience\", \"recommend\", \"restaurant\", \"serve\", \"taste\", \"try\", \"chicken\", \"veg\", \"rice\", \"biryani\", \"fry\", \"soup\", \"noodle\", \"sauce\", \"spicy\", \"paneer\", \"burger\", \"fish\", \"chocolate\", \"curry\", \"sweet\", \"kebab\", \"cheese\", \"chinese\", \"tikka\", \"flavour\", \"prawn\", \"hot\", \"paratha\", \"mutton\", \"flavor\", \"garlic\", \"wing\", \"fresh\", \"piece\", \"masala\", \"authentic\", \"non\", \"cuisine\", \"donut\", \"taste\", \"dish\", \"try\", \"quantity\", \"order\", \"well\", \"serve\", \"also\", \"bad\", \"even\", \"take\", \"ask\", \"never\", \"table\", \"delivery\", \"zomato\", \"wait\", \"customer\", \"deliver\", \"ever\", \"know\", \"see\", \"call\", \"think\", \"do\", \"rating\", \"cold\", \"hour\", \"min\", \"waste\", \"waiter\", \"smell\", \"back\", \"manager\", \"pathetic\", \"pay\", \"late\", \"hope\", \"hotel\", \"shawarma\", \"request\", \"get\", \"say\", \"provide\", \"give\", \"first\", \"order\", \"restaurant\", \"star\", \"time\", \"come\", \"go\", \"experience\", \"food\", \"eat\", \"thing\", \"serve\", \"make\", \"money\", \"quality\"], \"Freq\": [7865.0, 5619.0, 2927.0, 6864.0, 2997.0, 1281.0, 3092.0, 1961.0, 1919.0, 1292.0, 1848.0, 2724.0, 1593.0, 1067.0, 896.0, 965.0, 1345.0, 1935.0, 889.0, 763.0, 759.0, 842.0, 1123.0, 761.0, 1325.0, 1811.0, 742.0, 681.0, 703.0, 1792.0, 5617.990500803263, 1961.1414347606335, 1847.9467564950985, 1918.65596703863, 1593.2741564921737, 1345.1779810614446, 1123.235647040886, 880.5845824705893, 849.6979351233389, 739.47974183108, 708.8312974240255, 525.2099866192872, 520.0904765398079, 413.7411277215549, 446.87312326306983, 444.46555065263743, 407.34165247394145, 372.5547575316795, 328.2422742600681, 346.05437992655175, 310.2460821960466, 330.38544962043864, 293.58109197127374, 302.14337579047657, 210.90806863779204, 214.60011404138334, 260.2269456431232, 238.3349384820312, 212.67813785792094, 263.35754130752275, 7834.241875363666, 223.93225013008805, 243.5452772057588, 2874.471609138673, 534.0895070707861, 6061.446243280915, 841.7321603490757, 494.59539948464055, 1505.0031386828375, 439.23254859197993, 409.3002405895492, 1046.1137889677243, 1281.3079395443278, 601.1369734678372, 1152.3839538397094, 703.294481436701, 834.9504885840875, 953.6357546380822, 584.3043496768668, 692.7290591412293, 515.5657225399809, 751.450190846761, 667.9831493651726, 766.4715006486263, 654.1164426710315, 2926.3313299944925, 1066.5037964885132, 964.5918835793644, 841.5608143179136, 702.3988690271551, 761.0645786403003, 741.6102152811235, 531.905427074441, 519.559538424278, 483.6227850998795, 555.5474994324306, 437.93179168941884, 417.30280608133467, 384.4893008689493, 377.91915525971694, 389.39966559920884, 329.79371141084835, 887.59655706267, 318.83642372918155, 327.0854873805144, 370.508025965339, 332.3394798530916, 542.6242362617455, 294.24895448282683, 288.5667241730775, 289.4552528431735, 317.5052342500688, 296.61509295981324, 264.7042940411232, 245.8571325391384, 372.75341805592353, 306.6093537292078, 443.3521653220104, 462.73677968004347, 1943.0794505745034, 1040.485526375483, 1156.754517600434, 436.7914480953447, 1191.255317745007, 552.2395391415096, 458.73045313395335, 412.3264777228579, 896.0394681026838, 763.2961580371317, 759.2643483800664, 482.43109060851464, 504.28240489151216, 448.6925256826985, 388.6392380483361, 336.81831737613925, 347.9667774413599, 321.5734945996336, 290.69080739871805, 327.5369557522159, 291.0083614339883, 294.24845484091054, 242.17054192322814, 286.92591543341234, 1277.8126167811286, 254.57826850974035, 258.55763445826784, 207.94871771190253, 185.921456443512, 174.36569160804785, 186.1000692923201, 175.54740710829944, 260.9499531764549, 196.96514958265885, 147.2630481159156, 161.63146452938102, 157.7673030399591, 167.81388795500254, 229.21613260012876, 186.27792907236687, 184.90666616489295, 1256.1121873551476, 663.7368530615653, 265.93749745987714, 681.0317097428663, 458.0306988139753, 1805.7091193121184, 1159.670466560413, 310.9066370686475, 838.2140289690378, 483.2458507627539, 593.7697766575293, 456.4899201283299, 802.9028154875976, 330.66050423763744, 318.80355708177393, 413.87884967048217, 370.781658265832, 311.7576047689306, 338.0372645959501], \"Total\": [7865.0, 5619.0, 2927.0, 6864.0, 2997.0, 1281.0, 3092.0, 1961.0, 1919.0, 1292.0, 1848.0, 2724.0, 1593.0, 1067.0, 896.0, 965.0, 1345.0, 1935.0, 889.0, 763.0, 759.0, 842.0, 1123.0, 761.0, 1325.0, 1811.0, 742.0, 681.0, 703.0, 1792.0, 5619.343501424335, 1961.7837811402426, 1848.5672567947374, 1919.3343029567031, 1593.9310643056092, 1345.7823753511148, 1123.86874905209, 881.2087952641261, 850.3417826709682, 740.105260012432, 709.4824961240166, 525.8460833548605, 520.7709513289196, 414.33044956932525, 447.51036205010064, 445.1117027087564, 407.97415345977936, 373.2148300592326, 328.8245047896643, 346.66939654141953, 310.8392713332237, 331.0689045964988, 294.20397087978756, 302.86811183396867, 211.4719544362155, 215.212574929025, 260.97074474561776, 239.02609479609563, 213.29914584108144, 264.16547643564866, 7865.005491141223, 224.63656221747718, 244.60477656762356, 3092.6619556998817, 545.7222022001811, 6864.6409658479815, 884.8793086306399, 508.7893894511977, 1671.002088977611, 458.21913219342696, 430.4914642886203, 1301.4749242035473, 1897.2934718704744, 726.0681471969477, 1785.2602735161588, 933.0407836550536, 1281.2132268439811, 1792.1430877476905, 795.6836534258022, 1149.5140441808371, 638.9084476301546, 1935.888286746244, 1540.5924521696081, 2724.094543667844, 1811.2250370238228, 2927.0347781795376, 1067.2894106053157, 965.3422590646885, 842.2847387685123, 703.1225532596776, 761.9614103442894, 742.5227070010937, 532.6227436605392, 520.2712513146546, 484.3066778846512, 556.4468598535801, 438.6923658436666, 418.06282244096326, 385.2199879438592, 378.64089954435207, 390.2050868828375, 330.48717653637203, 889.588183277344, 319.558204515208, 327.8276190267953, 371.35164462162203, 333.117603154332, 543.9246141238702, 294.95955082553064, 289.26547981517894, 290.16457375784876, 318.2902691764323, 297.390192606195, 265.41272729479806, 246.52108071004426, 374.4510019511515, 307.4464838849673, 446.4362512009181, 477.89265371454434, 2724.094543667844, 1325.7508043882854, 1811.2250370238228, 531.878097280155, 2997.326972141714, 1785.2602735161588, 1540.5924521696081, 1281.2132268439811, 896.6407782795019, 763.979693836412, 759.9501238350022, 483.052130663536, 504.9418193587253, 449.4054877781359, 389.26562596114246, 337.42991206803043, 348.6471810682357, 322.20388761133825, 291.29692707574713, 328.27285827756043, 291.6809708430999, 294.967086915405, 242.77316611221204, 287.6469314994183, 1281.269846306081, 255.2756205527213, 259.2784567316117, 208.5847440128789, 186.5024925442934, 174.96136863034687, 186.73659915244042, 176.1735471452783, 261.8861129445891, 197.677517868424, 147.8315367063873, 162.27651740371022, 158.4000756363943, 168.50399197277704, 230.38750103862472, 187.12527278172016, 185.83109836006446, 1292.0776215279932, 681.3919527206164, 275.44883647383983, 828.7502249399877, 543.1311626524737, 2997.326972141714, 1935.888286746244, 386.2630757894451, 1792.1430877476905, 950.9277074711272, 1897.2934718704744, 1149.5140441808371, 6864.6409658479815, 554.6062570884573, 493.65543833734756, 1540.5924521696081, 1099.8150662226867, 468.5670534822988, 846.9301148934319], \"Category\": [\"Default\", \"Default\", \"Default\", \"Default\", \"Default\", \"Default\", \"Default\", \"Default\", \"Default\", \"Default\", \"Default\", \"Default\", \"Default\", \"Default\", \"Default\", \"Default\", \"Default\", \"Default\", \"Default\", \"Default\", \"Default\", \"Default\", \"Default\", \"Default\", \"Default\", \"Default\", \"Default\", \"Default\", \"Default\", \"Default\", \"Topic1\", \"Topic1\", \"Topic1\", \"Topic1\", \"Topic1\", \"Topic1\", \"Topic1\", \"Topic1\", \"Topic1\", \"Topic1\", \"Topic1\", \"Topic1\", \"Topic1\", \"Topic1\", \"Topic1\", \"Topic1\", \"Topic1\", \"Topic1\", \"Topic1\", \"Topic1\", \"Topic1\", \"Topic1\", \"Topic1\", \"Topic1\", \"Topic1\", \"Topic1\", \"Topic1\", \"Topic1\", \"Topic1\", \"Topic1\", \"Topic1\", \"Topic1\", \"Topic1\", \"Topic1\", \"Topic1\", \"Topic1\", \"Topic1\", \"Topic1\", \"Topic1\", \"Topic1\", \"Topic1\", \"Topic1\", \"Topic1\", \"Topic1\", \"Topic1\", \"Topic1\", \"Topic1\", \"Topic1\", \"Topic1\", \"Topic1\", \"Topic1\", \"Topic1\", \"Topic1\", \"Topic1\", \"Topic1\", \"Topic2\", \"Topic2\", \"Topic2\", \"Topic2\", \"Topic2\", \"Topic2\", \"Topic2\", \"Topic2\", \"Topic2\", \"Topic2\", \"Topic2\", \"Topic2\", \"Topic2\", \"Topic2\", \"Topic2\", \"Topic2\", \"Topic2\", \"Topic2\", \"Topic2\", \"Topic2\", \"Topic2\", \"Topic2\", \"Topic2\", \"Topic2\", \"Topic2\", \"Topic2\", \"Topic2\", \"Topic2\", \"Topic2\", \"Topic2\", \"Topic2\", \"Topic2\", \"Topic2\", \"Topic2\", \"Topic2\", \"Topic2\", \"Topic2\", \"Topic2\", \"Topic2\", \"Topic2\", \"Topic2\", \"Topic2\", \"Topic3\", \"Topic3\", \"Topic3\", \"Topic3\", \"Topic3\", \"Topic3\", \"Topic3\", \"Topic3\", \"Topic3\", \"Topic3\", \"Topic3\", \"Topic3\", \"Topic3\", \"Topic3\", \"Topic3\", \"Topic3\", \"Topic3\", \"Topic3\", \"Topic3\", \"Topic3\", \"Topic3\", \"Topic3\", \"Topic3\", \"Topic3\", \"Topic3\", \"Topic3\", \"Topic3\", \"Topic3\", \"Topic3\", \"Topic3\", \"Topic3\", \"Topic3\", \"Topic3\", \"Topic3\", \"Topic3\", \"Topic3\", \"Topic3\", \"Topic3\", \"Topic3\", \"Topic3\", \"Topic3\", \"Topic3\", \"Topic3\", \"Topic3\", \"Topic3\", \"Topic3\", \"Topic3\", \"Topic3\", \"Topic3\", \"Topic3\", \"Topic3\", \"Topic3\"], \"logprob\": [30.0, 29.0, 28.0, 27.0, 26.0, 25.0, 24.0, 23.0, 22.0, 21.0, 20.0, 19.0, 18.0, 17.0, 16.0, 15.0, 14.0, 13.0, 12.0, 11.0, 10.0, 9.0, 8.0, 7.0, 6.0, 5.0, 4.0, 3.0, 2.0, 1.0, -2.952, -4.0045, -4.0639, -4.0264, -4.2122, -4.3815, -4.5618, -4.8052, -4.8409, -4.9798, -5.0222, -5.322, -5.3318, -5.5605, -5.4835, -5.4889, -5.5761, -5.6654, -5.792, -5.7392, -5.8484, -5.7855, -5.9036, -5.8749, -6.2343, -6.217, -6.0242, -6.1121, -6.226, -6.0123, -2.6195, -6.1744, -6.0905, -3.6221, -5.3052, -2.8761, -4.8503, -5.382, -4.2692, -5.5007, -5.5713, -4.6329, -4.4301, -5.1869, -4.5362, -5.03, -4.8584, -4.7255, -5.2153, -5.0451, -5.3405, -4.9638, -5.0815, -4.944, -5.1025, -3.2473, -4.2567, -4.3571, -4.4936, -4.6743, -4.5941, -4.62, -4.9524, -4.9758, -5.0475, -4.9089, -5.1468, -5.195, -5.2769, -5.2941, -5.2642, -5.4304, -4.4403, -5.4641, -5.4386, -5.3139, -5.4227, -4.9324, -5.5444, -5.5639, -5.5608, -5.4683, -5.5364, -5.6502, -5.7241, -5.3079, -5.5032, -5.1345, -5.0917, -3.6568, -4.2814, -4.1754, -5.1494, -4.1461, -4.9148, -5.1004, -5.207, -4.2793, -4.4397, -4.445, -4.8985, -4.8542, -4.971, -5.1147, -5.2578, -5.2252, -5.3041, -5.4051, -5.2857, -5.404, -5.3929, -5.5877, -5.4181, -3.9244, -5.5377, -5.5222, -5.74, -5.852, -5.9162, -5.851, -5.9094, -5.513, -5.7943, -6.0851, -5.992, -6.0162, -5.9545, -5.6427, -5.8501, -5.8575, -3.9416, -4.5794, -5.4941, -4.5537, -4.9504, -3.5786, -4.0214, -5.3378, -4.3461, -4.8968, -4.6908, -4.9538, -4.3891, -5.2762, -5.3128, -5.0518, -5.1617, -5.3351, -5.2542], \"loglift\": [30.0, 29.0, 28.0, 27.0, 26.0, 25.0, 24.0, 23.0, 22.0, 21.0, 20.0, 19.0, 18.0, 17.0, 16.0, 15.0, 14.0, 13.0, 12.0, 11.0, 10.0, 9.0, 8.0, 7.0, 6.0, 5.0, 4.0, 3.0, 2.0, 1.0, 0.8332, 0.8331, 0.8331, 0.8331, 0.833, 0.833, 0.8329, 0.8327, 0.8327, 0.8326, 0.8325, 0.8322, 0.8321, 0.832, 0.832, 0.832, 0.8319, 0.8317, 0.8317, 0.8317, 0.8315, 0.8314, 0.8313, 0.8311, 0.8308, 0.8306, 0.8306, 0.8306, 0.8305, 0.8304, 0.8295, 0.8303, 0.8291, 0.7603, 0.8119, 0.709, 0.7835, 0.8052, 0.7288, 0.7911, 0.783, 0.615, 0.4409, 0.6446, 0.3957, 0.5508, 0.4053, 0.2026, 0.5247, 0.327, 0.619, -0.1129, -0.0022, -0.4346, -0.185, 1.1902, 1.1897, 1.1896, 1.1895, 1.1894, 1.1892, 1.1892, 1.1891, 1.189, 1.189, 1.1888, 1.1887, 1.1886, 1.1885, 1.1885, 1.1883, 1.1883, 1.1882, 1.1881, 1.1881, 1.1881, 1.1881, 1.188, 1.188, 1.188, 1.188, 1.1879, 1.1878, 1.1877, 1.1877, 1.1859, 1.1877, 1.1835, 1.1582, 0.8525, 0.9481, 0.742, 0.9934, 0.2677, 0.0171, -0.0211, 0.0567, 1.3412, 1.341, 1.341, 1.3406, 1.3406, 1.3403, 1.3403, 1.3401, 1.3399, 1.3399, 1.3398, 1.3396, 1.3396, 1.3394, 1.3394, 1.3394, 1.3392, 1.3392, 1.3391, 1.3388, 1.3388, 1.3385, 1.3385, 1.3383, 1.3383, 1.3383, 1.338, 1.3379, 1.3379, 1.3378, 1.3368, 1.3373, 1.3369, 1.3137, 1.3156, 1.3067, 1.1456, 1.1715, 0.8351, 0.8295, 1.1249, 0.582, 0.665, 0.1802, 0.4184, -0.804, 0.8247, 0.9046, 0.0275, 0.2546, 0.9344, 0.4234]}, \"token.table\": {\"Topic\": [1, 2, 3, 1, 1, 1, 3, 1, 2, 3, 1, 2, 1, 1, 3, 3, 2, 1, 2, 3, 2, 2, 1, 2, 3, 2, 1, 2, 3, 1, 2, 3, 1, 1, 2, 3, 2, 3, 1, 2, 3, 3, 1, 2, 1, 2, 3, 2, 3, 1, 2, 3, 2, 3, 1, 1, 3, 3, 1, 1, 3, 1, 2, 3, 2, 2, 2, 1, 3, 2, 1, 1, 2, 2, 1, 2, 3, 2, 3, 1, 2, 3, 1, 2, 1, 1, 3, 1, 2, 1, 3, 3, 2, 3, 3, 1, 2, 1, 1, 2, 3, 3, 2, 1, 2, 3, 3, 1, 3, 1, 2, 3, 1, 2, 2, 1, 2, 3, 1, 2, 2, 1, 2, 3, 1, 3, 3, 2, 1, 3, 1, 2, 1, 2, 1, 3, 1, 3, 1, 2, 1, 3, 1, 2, 1, 2, 3, 1, 3, 1, 2, 3, 2, 2, 2, 3, 3, 1, 2, 3, 1, 3, 3, 3, 2, 2, 1, 1, 1, 3, 1, 2, 1, 2, 3, 3, 1, 2, 3, 1, 1, 1, 2, 3, 3, 2, 1, 3, 1, 2, 1, 2, 2, 1, 1, 3, 3, 3, 1, 2, 3, 2, 1, 3], \"Freq\": [0.6517260222616181, 0.3215702049961517, 0.026537347014245528, 0.9992270013266027, 0.9993199323074882, 0.999693137053763, 0.9978219107281635, 0.002670576376586792, 0.9961249884668735, 0.002670576376586792, 0.9500769095988126, 0.048781455016075954, 0.9997630581251024, 0.003818453711639089, 0.9966164187378023, 0.999285356750413, 0.9996619447611877, 0.9995980643572581, 0.9991969406500062, 0.9968152735963633, 0.9985258836924391, 0.9996464756116833, 0.001124115651262235, 0.9982146983208646, 0.001124115651262235, 0.9974577446644078, 0.9975275357410841, 0.004088227605496246, 0.9989260321311618, 0.3112749767142392, 0.18087599998259846, 0.5079250464627619, 0.9994243796282197, 0.0044799229332743015, 0.9923029297202578, 0.0022399614666371507, 0.9968330097553583, 0.9993672093380072, 0.9728976473623565, 0.027516297097117153, 0.9989806721316016, 0.9993176228687375, 0.9785198363692721, 0.020156775655546803, 0.21195536828631698, 0.7844611495294294, 0.003017158267420882, 0.002341427146396243, 0.9974479643647994, 0.027202761747756814, 0.9688368222470312, 0.004185040268885664, 0.40389014212703517, 0.59681980823236, 0.9976122177066411, 0.9967713530879575, 0.9987176441411781, 0.9991688064648655, 0.9983910056922691, 0.6028634478266365, 0.3966893682668777, 0.9980690636436391, 0.15649995037089753, 0.8432585561161302, 0.9984217508724249, 0.9990822278021264, 0.9974754444752026, 0.8829303717636297, 0.11697625615017235, 0.9986879439339423, 0.9985066178121562, 0.9992024492294285, 0.9984034742528547, 0.9959865060618301, 0.015478946207851101, 0.011609209655888325, 0.9720778218530491, 0.17737551746745495, 0.8217192339818831, 0.6751723014875013, 0.011595464974804862, 0.3130775543197313, 0.9960577915455818, 0.0038143647876394504, 0.9996004752675716, 0.9977682410063607, 0.9970090205764475, 0.9985975291185445, 0.9966450192251947, 0.004340513246125921, 0.9939775333628359, 0.9971966117865131, 0.9969116576811841, 0.997665357321283, 0.9974742711783, 0.8037035370774522, 0.19593155062595632, 0.9985195961353983, 0.3946117973184095, 0.2682269129238037, 0.33732943964315654, 0.996572610402388, 0.9978862630792328, 0.7339600323389807, 0.11436705983364252, 0.15207048615242577, 0.9973057060126204, 0.3350641041302556, 0.66585987572382, 0.9974925689002658, 0.9967468392773007, 0.9981347962822303, 0.9994186464576706, 0.9985477671452755, 0.9992960390353517, 0.9975024186019126, 0.3973540461449827, 0.6025368659427698, 0.8277459937062592, 0.17216014844140168, 0.9993667692421861, 0.0018384900665154782, 0.9983001061179047, 0.0018384900665154782, 0.9990122560027215, 0.994375106117994, 0.9982960109809216, 0.9984449604244501, 0.9997609148784027, 0.0001779567310214316, 0.99729998294738, 0.9990530683606361, 0.9515421954017705, 0.048594197627406334, 0.032673944516206935, 0.9656965823678939, 0.600994097445746, 0.39908841834314757, 0.17861235588718152, 0.8216168370810351, 0.9957071850378053, 0.9989203020949492, 0.900657162505896, 0.09934158735945431, 0.8076274494631465, 0.11425737172637537, 0.07982364326089238, 0.005381230638062582, 0.9955276680415776, 0.3879356082381426, 0.012913968316848956, 0.5992081299017915, 0.9996454531421631, 0.9988307978434054, 0.024948929807761207, 0.974475846609026, 0.996721373474179, 0.4335994240782234, 0.2979373288202164, 0.2687277867790187, 0.9292965222736742, 0.07048943697135038, 0.9939865269667086, 0.9990149080376115, 0.9987382427361314, 0.9994786348198768, 0.997133696813732, 0.999415869151145, 0.19416818407173628, 0.8051507366174664, 0.7534504518077958, 0.2454340732062379, 0.997166257303827, 0.998307368419198, 0.9990977240172552, 0.9987497550099638, 0.28119435200241727, 0.7132645247267582, 0.005506416814668746, 0.9993067024922281, 0.9988595525525652, 0.326138410512107, 0.02835986178366148, 0.646199707784858, 0.9977509528919845, 0.9982531992378202, 0.5323235664173207, 0.46759659188439706, 0.3610815810467388, 0.6387941731973652, 0.9580568971412698, 0.04146487709723036, 0.9997288358692217, 0.9962802545298172, 0.9998258234867223, 0.9981437364092469, 0.9960554109061444, 0.9945052520000686, 0.6452840614276812, 0.3091986127674306, 0.045371535569133835, 0.9990880362846677, 0.9955880819425222, 0.998725921879908], \"Term\": [\"also\", \"also\", \"also\", \"amazing\", \"ambiance\", \"ambience\", \"ask\", \"authentic\", \"authentic\", \"authentic\", \"average\", \"average\", \"awesome\", \"back\", \"back\", \"bad\", \"biryani\", \"buffet\", \"burger\", \"call\", \"cheese\", \"chicken\", \"chinese\", \"chinese\", \"chinese\", \"chocolate\", \"city\", \"city\", \"cold\", \"come\", \"come\", \"come\", \"courteous\", \"cuisine\", \"cuisine\", \"cuisine\", \"curry\", \"customer\", \"decent\", \"decent\", \"deliver\", \"delivery\", \"dinner\", \"dinner\", \"dish\", \"dish\", \"dish\", \"do\", \"do\", \"donut\", \"donut\", \"donut\", \"eat\", \"eat\", \"enjoy\", \"especially\", \"even\", \"ever\", \"excellent\", \"experience\", \"experience\", \"family\", \"first\", \"first\", \"fish\", \"flavor\", \"flavour\", \"food\", \"food\", \"fresh\", \"friend\", \"friendly\", \"fry\", \"garlic\", \"get\", \"get\", \"get\", \"give\", \"give\", \"go\", \"go\", \"go\", \"good\", \"good\", \"great\", \"hangout\", \"hope\", \"hospitality\", \"hot\", \"hotel\", \"hotel\", \"hour\", \"kebab\", \"know\", \"late\", \"love\", \"love\", \"lunch\", \"make\", \"make\", \"make\", \"manager\", \"masala\", \"menu\", \"menu\", \"menu\", \"min\", \"money\", \"money\", \"music\", \"mutton\", \"never\", \"nice\", \"non\", \"noodle\", \"option\", \"order\", \"order\", \"overall\", \"overall\", \"paneer\", \"paratha\", \"paratha\", \"paratha\", \"party\", \"pathetic\", \"pay\", \"piece\", \"place\", \"place\", \"polite\", \"prawn\", \"price\", \"price\", \"provide\", \"provide\", \"quality\", \"quality\", \"quantity\", \"quantity\", \"quick\", \"rating\", \"really\", \"really\", \"recommend\", \"recommend\", \"recommend\", \"request\", \"request\", \"restaurant\", \"restaurant\", \"restaurant\", \"rice\", \"sauce\", \"say\", \"say\", \"see\", \"serve\", \"serve\", \"serve\", \"service\", \"service\", \"shawarma\", \"smell\", \"soup\", \"spicy\", \"spread\", \"staff\", \"star\", \"star\", \"starter\", \"starter\", \"super\", \"sweet\", \"table\", \"take\", \"taste\", \"taste\", \"taste\", \"team\", \"thank\", \"thing\", \"thing\", \"thing\", \"think\", \"tikka\", \"time\", \"time\", \"try\", \"try\", \"variety\", \"variety\", \"veg\", \"view\", \"visit\", \"wait\", \"waiter\", \"waste\", \"well\", \"well\", \"well\", \"wing\", \"wonderful\", \"zomato\"]}, \"R\": 30, \"lambda.step\": 0.01, \"plot.opts\": {\"xlab\": \"PC1\", \"ylab\": \"PC2\"}, \"topic.order\": [1, 2, 3]};\n\nfunction LDAvis_load_lib(url, callback){\n  var s = document.createElement('script');\n  s.src = url;\n  s.async = true;\n  s.onreadystatechange = s.onload = callback;\n  s.onerror = function(){console.warn(\"failed to load library \" + url);};\n  document.getElementsByTagName(\"head\")[0].appendChild(s);\n}\n\nif(typeof(LDAvis) !== \"undefined\"){\n   // already loaded: just create the visualization\n   !function(LDAvis){\n       new LDAvis(\"#\" + \"ldavis_el2442421542101458883759350249\", ldavis_el2442421542101458883759350249_data);\n   }(LDAvis);\n}else if(typeof define === \"function\" && define.amd){\n   // require.js is available: use it to load d3/LDAvis\n   require.config({paths: {d3: \"https://d3js.org/d3.v5\"}});\n   require([\"d3\"], function(d3){\n      window.d3 = d3;\n      LDAvis_load_lib(\"https://cdn.jsdelivr.net/gh/bmabey/pyLDAvis@3.3.1/pyLDAvis/js/ldavis.v3.0.0.js\", function(){\n        new LDAvis(\"#\" + \"ldavis_el2442421542101458883759350249\", ldavis_el2442421542101458883759350249_data);\n      });\n    });\n}else{\n    // require.js not available: dynamically load d3 & LDAvis\n    LDAvis_load_lib(\"https://d3js.org/d3.v5.js\", function(){\n         LDAvis_load_lib(\"https://cdn.jsdelivr.net/gh/bmabey/pyLDAvis@3.3.1/pyLDAvis/js/ldavis.v3.0.0.js\", function(){\n                 new LDAvis(\"#\" + \"ldavis_el2442421542101458883759350249\", ldavis_el2442421542101458883759350249_data);\n            })\n         });\n}\n</script>"
     },
     "metadata": {},
     "execution_count": 10
    }
   ],
   "source": [
    "import pyLDAvis.gensim_models\n",
    "pyLDAvis.enable_notebook()\n",
    "visualization = pyLDAvis.gensim_models.prepare(LDA, corpus, tokenDict)\n",
    "visualization"
   ]
  },
  {
   "source": [],
   "cell_type": "markdown",
   "metadata": {}
  }
 ]
}